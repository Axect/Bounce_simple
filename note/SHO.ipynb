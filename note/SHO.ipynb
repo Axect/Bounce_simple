{
 "cells": [
  {
   "cell_type": "code",
   "execution_count": 1,
   "id": "01463025-9468-41ef-bb98-9f2b488aecad",
   "metadata": {},
   "outputs": [],
   "source": [
    "%display latex"
   ]
  },
  {
   "cell_type": "code",
   "execution_count": 2,
   "id": "11a91253-048d-476f-9e7a-2a379bd5ae94",
   "metadata": {},
   "outputs": [
    {
     "data": {
      "text/html": [
       "<html>\\(\\displaystyle \\left(T, \\omega, a, X, t\\right)\\)</html>"
      ],
      "text/latex": [
       "$\\displaystyle \\left(T, \\omega, a, X, t\\right)$"
      ],
      "text/plain": [
       "(T, omega, a, X, t)"
      ]
     },
     "execution_count": 2,
     "metadata": {},
     "output_type": "execute_result"
    }
   ],
   "source": [
    "var('T omega a X t')"
   ]
  },
  {
   "cell_type": "code",
   "execution_count": 3,
   "id": "b588ba72-840c-47c9-a02d-f2210c8fc947",
   "metadata": {},
   "outputs": [],
   "source": [
    "assume(T > 0)\n",
    "assume(X > 0)\n",
    "assume(omega > 0)\n",
    "assume(a > 0)"
   ]
  },
  {
   "cell_type": "code",
   "execution_count": 4,
   "id": "1cd002e9-0d14-4402-919f-506cf202abfd",
   "metadata": {},
   "outputs": [
    {
     "data": {
      "text/html": [
       "<html>\\(\\displaystyle x \\ {\\mapsto}\\ \\frac{1}{2} \\, {\\left(a - x\\right)}^{2} \\omega^{2}\\)</html>"
      ],
      "text/latex": [
       "$\\displaystyle x \\ {\\mapsto}\\ \\frac{1}{2} \\, {\\left(a - x\\right)}^{2} \\omega^{2}$"
      ],
      "text/plain": [
       "x |--> 1/2*(a - x)^2*omega^2"
      ]
     },
     "execution_count": 4,
     "metadata": {},
     "output_type": "execute_result"
    }
   ],
   "source": [
    "V(x) = 1/2 * omega^2 * (x - a)^2\n",
    "V"
   ]
  },
  {
   "cell_type": "code",
   "execution_count": 5,
   "id": "dd752da2-078e-429c-9640-408138c07c39",
   "metadata": {},
   "outputs": [],
   "source": [
    "A = X / cos(omega * T)"
   ]
  },
  {
   "cell_type": "code",
   "execution_count": 6,
   "id": "960e0029-55e1-4182-bf8d-e153b194bbfc",
   "metadata": {},
   "outputs": [
    {
     "data": {
      "text/html": [
       "<html>\\(\\displaystyle \\frac{X}{\\cos\\left(T \\omega\\right)}\\)</html>"
      ],
      "text/latex": [
       "$\\displaystyle \\frac{X}{\\cos\\left(T \\omega\\right)}$"
      ],
      "text/plain": [
       "X/cos(T*omega)"
      ]
     },
     "execution_count": 6,
     "metadata": {},
     "output_type": "execute_result"
    }
   ],
   "source": [
    "A"
   ]
  },
  {
   "cell_type": "code",
   "execution_count": 7,
   "id": "d8361e0b-3d4c-488f-9e1a-a7451ed60bfa",
   "metadata": {},
   "outputs": [
    {
     "data": {
      "text/html": [
       "<html>\\(\\displaystyle t \\ {\\mapsto}\\ a + \\frac{X \\cos\\left(\\omega t\\right)}{\\cos\\left(T \\omega\\right)}\\)</html>"
      ],
      "text/latex": [
       "$\\displaystyle t \\ {\\mapsto}\\ a + \\frac{X \\cos\\left(\\omega t\\right)}{\\cos\\left(T \\omega\\right)}$"
      ],
      "text/plain": [
       "t |--> a + X*cos(omega*t)/cos(T*omega)"
      ]
     },
     "execution_count": 7,
     "metadata": {},
     "output_type": "execute_result"
    }
   ],
   "source": [
    "x(t) = A * cos(omega * t) + a\n",
    "x"
   ]
  },
  {
   "cell_type": "code",
   "execution_count": 8,
   "id": "a05c0829-f055-4d90-b688-e635d6b64bfa",
   "metadata": {},
   "outputs": [
    {
     "data": {
      "text/html": [
       "<html>\\(\\displaystyle t \\ {\\mapsto}\\ \\frac{1}{2} \\, {\\left(a + \\frac{X \\cos\\left(\\omega t\\right)}{\\cos\\left(T \\omega\\right)}\\right)}^{2} \\omega^{2}\\)</html>"
      ],
      "text/latex": [
       "$\\displaystyle t \\ {\\mapsto}\\ \\frac{1}{2} \\, {\\left(a + \\frac{X \\cos\\left(\\omega t\\right)}{\\cos\\left(T \\omega\\right)}\\right)}^{2} \\omega^{2}$"
      ],
      "text/plain": [
       "t |--> 1/2*(a + X*cos(omega*t)/cos(T*omega))^2*omega^2"
      ]
     },
     "execution_count": 8,
     "metadata": {},
     "output_type": "execute_result"
    }
   ],
   "source": [
    "V(t) = 1/2 * omega^2 * x(t)^2\n",
    "V"
   ]
  },
  {
   "cell_type": "code",
   "execution_count": 9,
   "id": "bf8696af-ae8c-4816-a962-8cf5804a7c5e",
   "metadata": {},
   "outputs": [
    {
     "data": {
      "text/html": [
       "<html>\\(\\displaystyle t \\ {\\mapsto}\\ -\\frac{X \\omega \\sin\\left(\\omega t\\right)}{\\cos\\left(T \\omega\\right)}\\)</html>"
      ],
      "text/latex": [
       "$\\displaystyle t \\ {\\mapsto}\\ -\\frac{X \\omega \\sin\\left(\\omega t\\right)}{\\cos\\left(T \\omega\\right)}$"
      ],
      "text/plain": [
       "t |--> -X*omega*sin(omega*t)/cos(T*omega)"
      ]
     },
     "execution_count": 9,
     "metadata": {},
     "output_type": "execute_result"
    }
   ],
   "source": [
    "dx(t) = diff(x,t)\n",
    "dx"
   ]
  },
  {
   "cell_type": "code",
   "execution_count": 10,
   "id": "eec141ca-ac09-4b35-a784-6107001231fe",
   "metadata": {},
   "outputs": [
    {
     "data": {
      "text/html": [
       "<html>\\(\\displaystyle t \\ {\\mapsto}\\ -\\frac{1}{2} \\, {\\left(a + \\frac{X \\cos\\left(\\omega t\\right)}{\\cos\\left(T \\omega\\right)}\\right)}^{2} \\omega^{2} + \\frac{X^{2} \\omega^{2} \\sin\\left(\\omega t\\right)^{2}}{2 \\, \\cos\\left(T \\omega\\right)^{2}}\\)</html>"
      ],
      "text/latex": [
       "$\\displaystyle t \\ {\\mapsto}\\ -\\frac{1}{2} \\, {\\left(a + \\frac{X \\cos\\left(\\omega t\\right)}{\\cos\\left(T \\omega\\right)}\\right)}^{2} \\omega^{2} + \\frac{X^{2} \\omega^{2} \\sin\\left(\\omega t\\right)^{2}}{2 \\, \\cos\\left(T \\omega\\right)^{2}}$"
      ],
      "text/plain": [
       "t |--> -1/2*(a + X*cos(omega*t)/cos(T*omega))^2*omega^2 + 1/2*X^2*omega^2*sin(omega*t)^2/cos(T*omega)^2"
      ]
     },
     "execution_count": 10,
     "metadata": {},
     "output_type": "execute_result"
    }
   ],
   "source": [
    "L(t) = 1/2 * dx(t)^2 - V(t)\n",
    "L"
   ]
  },
  {
   "cell_type": "code",
   "execution_count": 11,
   "id": "36c2b5ac-ca09-42bb-8eb7-e5df4f3d2e7d",
   "metadata": {},
   "outputs": [],
   "source": [
    "E = integrate(L(t), (t, 0, T)).simplify_full()"
   ]
  },
  {
   "cell_type": "code",
   "execution_count": 12,
   "id": "017df85b-6ce0-4334-81bc-4e379f53bd3e",
   "metadata": {},
   "outputs": [
    {
     "data": {
      "text/html": [
       "<html>\\(\\displaystyle -\\frac{T a^{2} \\omega^{2} \\cos\\left(T \\omega\\right) + {\\left(X^{2} + 2 \\, X a\\right)} \\omega \\sin\\left(T \\omega\\right)}{2 \\, \\cos\\left(T \\omega\\right)}\\)</html>"
      ],
      "text/latex": [
       "$\\displaystyle -\\frac{T a^{2} \\omega^{2} \\cos\\left(T \\omega\\right) + {\\left(X^{2} + 2 \\, X a\\right)} \\omega \\sin\\left(T \\omega\\right)}{2 \\, \\cos\\left(T \\omega\\right)}$"
      ],
      "text/plain": [
       "-1/2*(T*a^2*omega^2*cos(T*omega) + (X^2 + 2*X*a)*omega*sin(T*omega))/cos(T*omega)"
      ]
     },
     "execution_count": 12,
     "metadata": {},
     "output_type": "execute_result"
    }
   ],
   "source": [
    "E"
   ]
  },
  {
   "cell_type": "code",
   "execution_count": 13,
   "id": "2af90484-4a27-4a1f-b548-4fc32d0b79fb",
   "metadata": {},
   "outputs": [
    {
     "data": {
      "text/html": [
       "<html>\\(\\displaystyle -\\frac{1}{2} \\, {\\left(T \\omega - \\tan\\left(T \\omega\\right)\\right)} a^{2} \\omega - \\frac{1}{2} \\, {\\left(X + a\\right)}^{2} \\omega \\tan\\left(T \\omega\\right)\\)</html>"
      ],
      "text/latex": [
       "$\\displaystyle -\\frac{1}{2} \\, {\\left(T \\omega - \\tan\\left(T \\omega\\right)\\right)} a^{2} \\omega - \\frac{1}{2} \\, {\\left(X + a\\right)}^{2} \\omega \\tan\\left(T \\omega\\right)$"
      ],
      "text/plain": [
       "-1/2*(T*omega - tan(T*omega))*a^2*omega - 1/2*(X + a)^2*omega*tan(T*omega)"
      ]
     },
     "execution_count": 13,
     "metadata": {},
     "output_type": "execute_result"
    }
   ],
   "source": [
    "F = - 1/2 * omega * tan(omega * T) * (X + a)^2 + 1/2 * omega * a^2 * (tan(omega*T) - omega*T)\n",
    "F"
   ]
  },
  {
   "cell_type": "code",
   "execution_count": 15,
   "id": "fc8ea004-dd30-4091-b4a0-9bd1e1cafbd3",
   "metadata": {},
   "outputs": [
    {
     "data": {
      "text/html": [
       "<html>\\(\\displaystyle \\mathrm{True}\\)</html>"
      ],
      "text/latex": [
       "$\\displaystyle \\mathrm{True}$"
      ],
      "text/plain": [
       "True"
      ]
     },
     "execution_count": 15,
     "metadata": {},
     "output_type": "execute_result"
    }
   ],
   "source": [
    "bool(E==F)"
   ]
  }
 ],
 "metadata": {
  "kernelspec": {
   "display_name": "SageMath 10.2",
   "language": "sage",
   "name": "sagemath"
  },
  "language_info": {
   "codemirror_mode": {
    "name": "ipython",
    "version": 3
   },
   "file_extension": ".py",
   "mimetype": "text/x-python",
   "name": "python",
   "nbconvert_exporter": "python",
   "pygments_lexer": "ipython3",
   "version": "3.11.6"
  }
 },
 "nbformat": 4,
 "nbformat_minor": 5
}
