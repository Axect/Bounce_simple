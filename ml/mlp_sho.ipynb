{
 "cells": [
  {
   "cell_type": "code",
   "execution_count": 1,
   "metadata": {},
   "outputs": [],
   "source": [
    "import torch\n",
    "import torch.nn as nn\n",
    "import torch.nn.functional as F\n",
    "import torch.optim as optim\n",
    "from torch.utils.data import Dataset, DataLoader, random_split\n",
    "from torch.optim.lr_scheduler import OneCycleLR\n",
    "\n",
    "import lightning as L\n",
    "from lightning import Trainer\n",
    "from lightning.pytorch.loggers import WandbLogger\n",
    "from lightning.pytorch.callbacks import LearningRateMonitor\n",
    "\n",
    "from wandb import wandb\n",
    "\n",
    "import numpy as np\n",
    "import matplotlib.pyplot as plt\n",
    "import pandas as pd"
   ]
  },
  {
   "cell_type": "code",
   "execution_count": 2,
   "metadata": {},
   "outputs": [],
   "source": [
    "N = 16"
   ]
  },
  {
   "cell_type": "code",
   "execution_count": 3,
   "metadata": {},
   "outputs": [
    {
     "data": {
      "text/html": [
       "<div>\n",
       "<style scoped>\n",
       "    .dataframe tbody tr th:only-of-type {\n",
       "        vertical-align: middle;\n",
       "    }\n",
       "\n",
       "    .dataframe tbody tr th {\n",
       "        vertical-align: top;\n",
       "    }\n",
       "\n",
       "    .dataframe thead th {\n",
       "        text-align: right;\n",
       "    }\n",
       "</style>\n",
       "<table border=\"1\" class=\"dataframe\">\n",
       "  <thead>\n",
       "    <tr style=\"text-align: right;\">\n",
       "      <th></th>\n",
       "      <th>omega</th>\n",
       "      <th>a</th>\n",
       "      <th>s</th>\n",
       "      <th>v0</th>\n",
       "      <th>dv0</th>\n",
       "      <th>v1</th>\n",
       "      <th>dv1</th>\n",
       "      <th>v2</th>\n",
       "      <th>dv2</th>\n",
       "      <th>v3</th>\n",
       "      <th>...</th>\n",
       "      <th>v11</th>\n",
       "      <th>dv11</th>\n",
       "      <th>v12</th>\n",
       "      <th>dv12</th>\n",
       "      <th>v13</th>\n",
       "      <th>dv13</th>\n",
       "      <th>v14</th>\n",
       "      <th>dv14</th>\n",
       "      <th>v15</th>\n",
       "      <th>dv15</th>\n",
       "    </tr>\n",
       "  </thead>\n",
       "  <tbody>\n",
       "    <tr>\n",
       "      <th>0</th>\n",
       "      <td>0.853399</td>\n",
       "      <td>0.858663</td>\n",
       "      <td>-1.597442</td>\n",
       "      <td>0.268484</td>\n",
       "      <td>-0.732782</td>\n",
       "      <td>0.228412</td>\n",
       "      <td>-0.675888</td>\n",
       "      <td>0.191577</td>\n",
       "      <td>-0.618995</td>\n",
       "      <td>0.157979</td>\n",
       "      <td>...</td>\n",
       "      <td>5.719775e-03</td>\n",
       "      <td>-0.106956</td>\n",
       "      <td>0.001253</td>\n",
       "      <td>-0.050063</td>\n",
       "      <td>0.000023</td>\n",
       "      <td>0.006831</td>\n",
       "      <td>2.030368e-03</td>\n",
       "      <td>0.063724</td>\n",
       "      <td>0.007274</td>\n",
       "      <td>0.120617</td>\n",
       "    </tr>\n",
       "    <tr>\n",
       "      <th>1</th>\n",
       "      <td>0.124458</td>\n",
       "      <td>0.942548</td>\n",
       "      <td>-0.029341</td>\n",
       "      <td>0.006881</td>\n",
       "      <td>-0.117308</td>\n",
       "      <td>0.005942</td>\n",
       "      <td>-0.109010</td>\n",
       "      <td>0.005072</td>\n",
       "      <td>-0.100713</td>\n",
       "      <td>0.004270</td>\n",
       "      <td>...</td>\n",
       "      <td>3.390003e-04</td>\n",
       "      <td>-0.026038</td>\n",
       "      <td>0.000157</td>\n",
       "      <td>-0.017741</td>\n",
       "      <td>0.000045</td>\n",
       "      <td>-0.009444</td>\n",
       "      <td>6.576447e-07</td>\n",
       "      <td>-0.001147</td>\n",
       "      <td>0.000026</td>\n",
       "      <td>0.007150</td>\n",
       "    </tr>\n",
       "    <tr>\n",
       "      <th>2</th>\n",
       "      <td>0.964380</td>\n",
       "      <td>0.945482</td>\n",
       "      <td>-2.425493</td>\n",
       "      <td>0.415693</td>\n",
       "      <td>-0.911803</td>\n",
       "      <td>0.359138</td>\n",
       "      <td>-0.847511</td>\n",
       "      <td>0.306716</td>\n",
       "      <td>-0.783219</td>\n",
       "      <td>0.258428</td>\n",
       "      <td>...</td>\n",
       "      <td>2.092885e-02</td>\n",
       "      <td>-0.204592</td>\n",
       "      <td>0.009842</td>\n",
       "      <td>-0.140300</td>\n",
       "      <td>0.002889</td>\n",
       "      <td>-0.076008</td>\n",
       "      <td>6.862753e-05</td>\n",
       "      <td>-0.011716</td>\n",
       "      <td>0.001382</td>\n",
       "      <td>0.052576</td>\n",
       "    </tr>\n",
       "    <tr>\n",
       "      <th>3</th>\n",
       "      <td>0.346069</td>\n",
       "      <td>0.173352</td>\n",
       "      <td>-0.085824</td>\n",
       "      <td>0.001800</td>\n",
       "      <td>-0.059992</td>\n",
       "      <td>0.000682</td>\n",
       "      <td>-0.036921</td>\n",
       "      <td>0.000096</td>\n",
       "      <td>-0.013849</td>\n",
       "      <td>0.000043</td>\n",
       "      <td>...</td>\n",
       "      <td>1.877765e-02</td>\n",
       "      <td>0.193792</td>\n",
       "      <td>0.023515</td>\n",
       "      <td>0.216863</td>\n",
       "      <td>0.028784</td>\n",
       "      <td>0.239934</td>\n",
       "      <td>3.458598e-02</td>\n",
       "      <td>0.263006</td>\n",
       "      <td>0.040920</td>\n",
       "      <td>0.286077</td>\n",
       "    </tr>\n",
       "    <tr>\n",
       "      <th>4</th>\n",
       "      <td>0.424457</td>\n",
       "      <td>0.153898</td>\n",
       "      <td>-0.127567</td>\n",
       "      <td>0.002134</td>\n",
       "      <td>-0.065323</td>\n",
       "      <td>0.000685</td>\n",
       "      <td>-0.037026</td>\n",
       "      <td>0.000038</td>\n",
       "      <td>-0.008729</td>\n",
       "      <td>0.000191</td>\n",
       "      <td>...</td>\n",
       "      <td>3.024455e-02</td>\n",
       "      <td>0.245945</td>\n",
       "      <td>0.037604</td>\n",
       "      <td>0.274242</td>\n",
       "      <td>0.045765</td>\n",
       "      <td>0.302540</td>\n",
       "      <td>5.472645e-02</td>\n",
       "      <td>0.330837</td>\n",
       "      <td>0.064489</td>\n",
       "      <td>0.359134</td>\n",
       "    </tr>\n",
       "    <tr>\n",
       "      <th>...</th>\n",
       "      <td>...</td>\n",
       "      <td>...</td>\n",
       "      <td>...</td>\n",
       "      <td>...</td>\n",
       "      <td>...</td>\n",
       "      <td>...</td>\n",
       "      <td>...</td>\n",
       "      <td>...</td>\n",
       "      <td>...</td>\n",
       "      <td>...</td>\n",
       "      <td>...</td>\n",
       "      <td>...</td>\n",
       "      <td>...</td>\n",
       "      <td>...</td>\n",
       "      <td>...</td>\n",
       "      <td>...</td>\n",
       "      <td>...</td>\n",
       "      <td>...</td>\n",
       "      <td>...</td>\n",
       "      <td>...</td>\n",
       "      <td>...</td>\n",
       "    </tr>\n",
       "    <tr>\n",
       "      <th>995</th>\n",
       "      <td>0.136966</td>\n",
       "      <td>0.738284</td>\n",
       "      <td>-0.028489</td>\n",
       "      <td>0.005113</td>\n",
       "      <td>-0.101120</td>\n",
       "      <td>0.004231</td>\n",
       "      <td>-0.091989</td>\n",
       "      <td>0.003433</td>\n",
       "      <td>-0.082858</td>\n",
       "      <td>0.002718</td>\n",
       "      <td>...</td>\n",
       "      <td>2.298983e-07</td>\n",
       "      <td>-0.000678</td>\n",
       "      <td>0.000036</td>\n",
       "      <td>0.008453</td>\n",
       "      <td>0.000155</td>\n",
       "      <td>0.017584</td>\n",
       "      <td>3.568512e-04</td>\n",
       "      <td>0.026715</td>\n",
       "      <td>0.000642</td>\n",
       "      <td>0.035846</td>\n",
       "    </tr>\n",
       "    <tr>\n",
       "      <th>996</th>\n",
       "      <td>0.111650</td>\n",
       "      <td>0.477203</td>\n",
       "      <td>-0.013652</td>\n",
       "      <td>0.001419</td>\n",
       "      <td>-0.053280</td>\n",
       "      <td>0.001050</td>\n",
       "      <td>-0.045836</td>\n",
       "      <td>0.000737</td>\n",
       "      <td>-0.038393</td>\n",
       "      <td>0.000479</td>\n",
       "      <td>...</td>\n",
       "      <td>4.088923e-04</td>\n",
       "      <td>0.028597</td>\n",
       "      <td>0.000649</td>\n",
       "      <td>0.036040</td>\n",
       "      <td>0.000945</td>\n",
       "      <td>0.043484</td>\n",
       "      <td>1.296777e-03</td>\n",
       "      <td>0.050927</td>\n",
       "      <td>0.001704</td>\n",
       "      <td>0.058370</td>\n",
       "    </tr>\n",
       "    <tr>\n",
       "      <th>997</th>\n",
       "      <td>0.422115</td>\n",
       "      <td>0.029268</td>\n",
       "      <td>-0.100413</td>\n",
       "      <td>0.000076</td>\n",
       "      <td>-0.012354</td>\n",
       "      <td>0.000125</td>\n",
       "      <td>0.015787</td>\n",
       "      <td>0.000965</td>\n",
       "      <td>0.043928</td>\n",
       "      <td>0.002597</td>\n",
       "      <td>...</td>\n",
       "      <td>4.416291e-02</td>\n",
       "      <td>0.297197</td>\n",
       "      <td>0.052922</td>\n",
       "      <td>0.325338</td>\n",
       "      <td>0.062474</td>\n",
       "      <td>0.353479</td>\n",
       "      <td>7.281676e-02</td>\n",
       "      <td>0.381620</td>\n",
       "      <td>0.083952</td>\n",
       "      <td>0.409761</td>\n",
       "    </tr>\n",
       "    <tr>\n",
       "      <th>998</th>\n",
       "      <td>0.030659</td>\n",
       "      <td>0.452666</td>\n",
       "      <td>-0.000992</td>\n",
       "      <td>0.000096</td>\n",
       "      <td>-0.013878</td>\n",
       "      <td>0.000070</td>\n",
       "      <td>-0.011834</td>\n",
       "      <td>0.000048</td>\n",
       "      <td>-0.009790</td>\n",
       "      <td>0.000030</td>\n",
       "      <td>...</td>\n",
       "      <td>3.702266e-05</td>\n",
       "      <td>0.008605</td>\n",
       "      <td>0.000057</td>\n",
       "      <td>0.010649</td>\n",
       "      <td>0.000081</td>\n",
       "      <td>0.012693</td>\n",
       "      <td>1.085859e-04</td>\n",
       "      <td>0.014737</td>\n",
       "      <td>0.000141</td>\n",
       "      <td>0.016781</td>\n",
       "    </tr>\n",
       "    <tr>\n",
       "      <th>999</th>\n",
       "      <td>0.065587</td>\n",
       "      <td>0.659745</td>\n",
       "      <td>-0.005932</td>\n",
       "      <td>0.000936</td>\n",
       "      <td>-0.043271</td>\n",
       "      <td>0.000757</td>\n",
       "      <td>-0.038898</td>\n",
       "      <td>0.000596</td>\n",
       "      <td>-0.034526</td>\n",
       "      <td>0.000455</td>\n",
       "      <td>...</td>\n",
       "      <td>1.164719e-05</td>\n",
       "      <td>0.004826</td>\n",
       "      <td>0.000042</td>\n",
       "      <td>0.009199</td>\n",
       "      <td>0.000092</td>\n",
       "      <td>0.013571</td>\n",
       "      <td>1.609905e-04</td>\n",
       "      <td>0.017944</td>\n",
       "      <td>0.000249</td>\n",
       "      <td>0.022316</td>\n",
       "    </tr>\n",
       "  </tbody>\n",
       "</table>\n",
       "<p>1000 rows × 35 columns</p>\n",
       "</div>"
      ],
      "text/plain": [
       "        omega         a         s        v0       dv0        v1       dv1  \\\n",
       "0    0.853399  0.858663 -1.597442  0.268484 -0.732782  0.228412 -0.675888   \n",
       "1    0.124458  0.942548 -0.029341  0.006881 -0.117308  0.005942 -0.109010   \n",
       "2    0.964380  0.945482 -2.425493  0.415693 -0.911803  0.359138 -0.847511   \n",
       "3    0.346069  0.173352 -0.085824  0.001800 -0.059992  0.000682 -0.036921   \n",
       "4    0.424457  0.153898 -0.127567  0.002134 -0.065323  0.000685 -0.037026   \n",
       "..        ...       ...       ...       ...       ...       ...       ...   \n",
       "995  0.136966  0.738284 -0.028489  0.005113 -0.101120  0.004231 -0.091989   \n",
       "996  0.111650  0.477203 -0.013652  0.001419 -0.053280  0.001050 -0.045836   \n",
       "997  0.422115  0.029268 -0.100413  0.000076 -0.012354  0.000125  0.015787   \n",
       "998  0.030659  0.452666 -0.000992  0.000096 -0.013878  0.000070 -0.011834   \n",
       "999  0.065587  0.659745 -0.005932  0.000936 -0.043271  0.000757 -0.038898   \n",
       "\n",
       "           v2       dv2        v3  ...           v11      dv11       v12  \\\n",
       "0    0.191577 -0.618995  0.157979  ...  5.719775e-03 -0.106956  0.001253   \n",
       "1    0.005072 -0.100713  0.004270  ...  3.390003e-04 -0.026038  0.000157   \n",
       "2    0.306716 -0.783219  0.258428  ...  2.092885e-02 -0.204592  0.009842   \n",
       "3    0.000096 -0.013849  0.000043  ...  1.877765e-02  0.193792  0.023515   \n",
       "4    0.000038 -0.008729  0.000191  ...  3.024455e-02  0.245945  0.037604   \n",
       "..        ...       ...       ...  ...           ...       ...       ...   \n",
       "995  0.003433 -0.082858  0.002718  ...  2.298983e-07 -0.000678  0.000036   \n",
       "996  0.000737 -0.038393  0.000479  ...  4.088923e-04  0.028597  0.000649   \n",
       "997  0.000965  0.043928  0.002597  ...  4.416291e-02  0.297197  0.052922   \n",
       "998  0.000048 -0.009790  0.000030  ...  3.702266e-05  0.008605  0.000057   \n",
       "999  0.000596 -0.034526  0.000455  ...  1.164719e-05  0.004826  0.000042   \n",
       "\n",
       "         dv12       v13      dv13           v14      dv14       v15      dv15  \n",
       "0   -0.050063  0.000023  0.006831  2.030368e-03  0.063724  0.007274  0.120617  \n",
       "1   -0.017741  0.000045 -0.009444  6.576447e-07 -0.001147  0.000026  0.007150  \n",
       "2   -0.140300  0.002889 -0.076008  6.862753e-05 -0.011716  0.001382  0.052576  \n",
       "3    0.216863  0.028784  0.239934  3.458598e-02  0.263006  0.040920  0.286077  \n",
       "4    0.274242  0.045765  0.302540  5.472645e-02  0.330837  0.064489  0.359134  \n",
       "..        ...       ...       ...           ...       ...       ...       ...  \n",
       "995  0.008453  0.000155  0.017584  3.568512e-04  0.026715  0.000642  0.035846  \n",
       "996  0.036040  0.000945  0.043484  1.296777e-03  0.050927  0.001704  0.058370  \n",
       "997  0.325338  0.062474  0.353479  7.281676e-02  0.381620  0.083952  0.409761  \n",
       "998  0.010649  0.000081  0.012693  1.085859e-04  0.014737  0.000141  0.016781  \n",
       "999  0.009199  0.000092  0.013571  1.609905e-04  0.017944  0.000249  0.022316  \n",
       "\n",
       "[1000 rows x 35 columns]"
      ]
     },
     "execution_count": 3,
     "metadata": {},
     "output_type": "execute_result"
    }
   ],
   "source": [
    "# Load data (parquet)\n",
    "df = pd.read_parquet(\"../sho.parquet\")\n",
    "df"
   ]
  },
  {
   "cell_type": "code",
   "execution_count": 4,
   "metadata": {},
   "outputs": [],
   "source": [
    "omega = df[\"omega\"].values\n",
    "a     = df[\"a\"].values\n",
    "s     = df[\"s\"].values"
   ]
  },
  {
   "cell_type": "code",
   "execution_count": 5,
   "metadata": {},
   "outputs": [],
   "source": [
    "vs = []\n",
    "dvs = []\n",
    "for i in range(N):\n",
    "    vs.append(df[f\"v{i}\"].values)\n",
    "    dvs.append(df[f\"dv{i}\"].values)\n",
    "vs = np.array(vs).T\n",
    "dvs = np.array(dvs).T"
   ]
  },
  {
   "cell_type": "code",
   "execution_count": 6,
   "metadata": {},
   "outputs": [
    {
     "data": {
      "text/plain": [
       "(1000, 16)"
      ]
     },
     "execution_count": 6,
     "metadata": {},
     "output_type": "execute_result"
    }
   ],
   "source": [
    "vs.shape"
   ]
  },
  {
   "cell_type": "code",
   "execution_count": 7,
   "metadata": {},
   "outputs": [],
   "source": [
    "class SHO(Dataset):\n",
    "    def __init__(self, vs, dvs, omega, a, s):\n",
    "        self.vs    = vs.astype(np.float32)\n",
    "        self.dvs   = dvs.astype(np.float32)\n",
    "        self.omega = omega.astype(np.float32)\n",
    "        self.a     = a.astype(np.float32)\n",
    "        self.s     = s.astype(np.float32)\n",
    "\n",
    "        self.X = np.concatenate([self.vs, self.dvs], axis=1)\n",
    "        self.y = self.s\n",
    "\n",
    "    def __len__(self):\n",
    "        return len(self.vs)\n",
    "\n",
    "    def __getitem__(self, idx):\n",
    "        return self.X[idx], self.y[idx], self.omega[idx], self.a[idx]"
   ]
  },
  {
   "cell_type": "code",
   "execution_count": 8,
   "metadata": {},
   "outputs": [],
   "source": [
    "ds = SHO(vs, dvs, omega, a, s)\n",
    "\n",
    "# Split data\n",
    "train_size = int(0.8 * len(ds))\n",
    "test_size = len(ds) - train_size\n",
    "train_ds, test_ds = random_split(ds, [train_size, test_size])\n",
    "\n",
    "# Create dataloaders\n",
    "batch_size = 32\n",
    "train_dl = DataLoader(train_ds, batch_size=batch_size, shuffle=True)\n",
    "test_dl = DataLoader(test_ds, batch_size=batch_size)"
   ]
  },
  {
   "cell_type": "code",
   "execution_count": 9,
   "metadata": {},
   "outputs": [],
   "source": [
    "class MLP(L.LightningModule):\n",
    "    def __init__(self, hparams):\n",
    "        super().__init__()\n",
    "        self.n_in       = hparams[\"n_in\"]\n",
    "        self.n_out      = hparams[\"n_out\"]\n",
    "        self.n_hidden   = hparams[\"n_hidden\"]\n",
    "        self.n_layers   = hparams[\"n_layers\"]\n",
    "        self.lr         = hparams[\"lr\"]\n",
    "        self.epochs     = hparams[\"epochs\"]\n",
    "        self.batchsize  = hparams[\"batchsize\"]\n",
    "\n",
    "        self.layers = nn.ModuleList()\n",
    "        self.layers.append(nn.Linear(self.n_in, self.n_hidden))\n",
    "        for i in range(self.n_layers):\n",
    "            self.layers.append(nn.Linear(self.n_hidden, self.n_hidden))\n",
    "        self.layers.append(nn.Linear(self.n_hidden, self.n_out))\n",
    "        self.net = nn.Sequential(*self.layers)\n",
    "\n",
    "    def forward(self, x):\n",
    "        x = self.net(x)\n",
    "        return x\n",
    "    \n",
    "    def training_step(self, batch, batch_idx):\n",
    "        x, s, _, _ = batch\n",
    "        y = self(x)\n",
    "        loss = F.mse_loss(y, s)\n",
    "        self.log('train_loss', loss)\n",
    "        return loss\n",
    "    \n",
    "    def validation_step(self, batch, batch_idx):\n",
    "        x, s, _, _ = batch\n",
    "        y = self(x)\n",
    "        loss = F.mse_loss(y, s)\n",
    "        self.log('val_loss', loss)\n",
    "        return loss\n",
    "    \n",
    "    def configure_optimizers(self):\n",
    "        optimizer = optim.Adam(self.parameters(), lr=self.lr)\n",
    "        scheduler = OneCycleLR(optimizer, max_lr=self.lr, epochs=self.epochs, steps_per_epoch=len(train_dl) // self.batchsize + 1)\n",
    "        return {\n",
    "            'optimizer': optimizer, \n",
    "            'lr_scheduler': scheduler, \n",
    "            'monitor': 'val_loss',\n",
    "            'interval': 'epoch',\n",
    "            'strict': True\n",
    "        }\n",
    "    \n",
    "    def train_dataloader(self):\n",
    "        return train_dl\n",
    "    \n",
    "    def val_dataloader(self):\n",
    "        return test_dl"
   ]
  },
  {
   "cell_type": "code",
   "execution_count": 10,
   "metadata": {},
   "outputs": [],
   "source": [
    "hparams = {\n",
    "    \"n_in\": 2*N,\n",
    "    \"n_out\": 1,\n",
    "    \"n_hidden\": 16,\n",
    "    \"n_layers\": 3,\n",
    "    \"lr\": 1e-4,\n",
    "    \"epochs\": 200,\n",
    "    \"batchsize\": 32\n",
    "}\n",
    "\n",
    "model = MLP(hparams)"
   ]
  },
  {
   "cell_type": "code",
   "execution_count": 11,
   "metadata": {},
   "outputs": [
    {
     "name": "stderr",
     "output_type": "stream",
     "text": [
      "Failed to detect the name of this notebook, you can set it manually with the WANDB_NOTEBOOK_NAME environment variable to enable code saving.\n",
      "\u001b[34m\u001b[1mwandb\u001b[0m: Currently logged in as: \u001b[33maxect\u001b[0m. Use \u001b[1m`wandb login --relogin`\u001b[0m to force relogin\n"
     ]
    },
    {
     "data": {
      "text/html": [
       "Tracking run with wandb version 0.16.1"
      ],
      "text/plain": [
       "<IPython.core.display.HTML object>"
      ]
     },
     "metadata": {},
     "output_type": "display_data"
    },
    {
     "data": {
      "text/html": [
       "Run data is saved locally in <code>/home/xteca/Documents/Project/Research/bounce_simple/ml/wandb/run-20240108_220035-6do10ghw</code>"
      ],
      "text/plain": [
       "<IPython.core.display.HTML object>"
      ]
     },
     "metadata": {},
     "output_type": "display_data"
    },
    {
     "data": {
      "text/html": [
       "Syncing run <strong><a href='https://wandb.ai/axect/sho/runs/6do10ghw' target=\"_blank\">robust-firebrand-34</a></strong> to <a href='https://wandb.ai/axect/sho' target=\"_blank\">Weights & Biases</a> (<a href='https://wandb.me/run' target=\"_blank\">docs</a>)<br/>"
      ],
      "text/plain": [
       "<IPython.core.display.HTML object>"
      ]
     },
     "metadata": {},
     "output_type": "display_data"
    },
    {
     "data": {
      "text/html": [
       " View project at <a href='https://wandb.ai/axect/sho' target=\"_blank\">https://wandb.ai/axect/sho</a>"
      ],
      "text/plain": [
       "<IPython.core.display.HTML object>"
      ]
     },
     "metadata": {},
     "output_type": "display_data"
    },
    {
     "data": {
      "text/html": [
       " View run at <a href='https://wandb.ai/axect/sho/runs/6do10ghw' target=\"_blank\">https://wandb.ai/axect/sho/runs/6do10ghw</a>"
      ],
      "text/plain": [
       "<IPython.core.display.HTML object>"
      ]
     },
     "metadata": {},
     "output_type": "display_data"
    },
    {
     "data": {
      "text/html": [
       "<button onClick=\"this.nextSibling.style.display='block';this.style.display='none';\">Display W&B run</button><iframe src='https://wandb.ai/axect/sho/runs/6do10ghw?jupyter=true' style='border:none;width:100%;height:420px;display:none;'></iframe>"
      ],
      "text/plain": [
       "<wandb.sdk.wandb_run.Run at 0x7f4effec90d0>"
      ]
     },
     "execution_count": 11,
     "metadata": {},
     "output_type": "execute_result"
    }
   ],
   "source": [
    "# Wandb logger\n",
    "wandb.init(project=\"sho\")"
   ]
  },
  {
   "cell_type": "code",
   "execution_count": 12,
   "metadata": {},
   "outputs": [
    {
     "name": "stderr",
     "output_type": "stream",
     "text": [
      "GPU available: True (cuda), used: True\n",
      "TPU available: False, using: 0 TPU cores\n",
      "IPU available: False, using: 0 IPUs\n",
      "HPU available: False, using: 0 HPUs\n"
     ]
    }
   ],
   "source": [
    "# Train\n",
    "trainer = Trainer(\n",
    "    max_epochs=hparams[\"epochs\"],\n",
    "    logger=WandbLogger(),\n",
    "    callbacks=[LearningRateMonitor(logging_interval='epoch')]\n",
    ")"
   ]
  },
  {
   "cell_type": "code",
   "execution_count": 13,
   "metadata": {},
   "outputs": [
    {
     "name": "stderr",
     "output_type": "stream",
     "text": [
      "You are using a CUDA device ('NVIDIA GeForce RTX 3050 4GB Laptop GPU') that has Tensor Cores. To properly utilize them, you should set `torch.set_float32_matmul_precision('medium' | 'high')` which will trade-off precision for performance. For more details, read https://pytorch.org/docs/stable/generated/torch.set_float32_matmul_precision.html#torch.set_float32_matmul_precision\n",
      "/home/xteca/Documents/Project/Research/bounce_simple/.venv/lib/python3.11/site-packages/lightning/pytorch/loggers/wandb.py:389: There is a wandb run already in progress and newly created instances of `WandbLogger` will reuse this run. If this is not desired, call `wandb.finish()` before instantiating `WandbLogger`.\n",
      "LOCAL_RANK: 0 - CUDA_VISIBLE_DEVICES: [0]\n",
      "/home/xteca/Documents/Project/Research/bounce_simple/.venv/lib/python3.11/site-packages/lightning/pytorch/core/optimizer.py:375: Found unsupported keys in the optimizer configuration: {'strict', 'interval'}\n",
      "\n",
      "  | Name   | Type       | Params\n",
      "--------------------------------------\n",
      "0 | layers | ModuleList | 1.4 K \n",
      "1 | net    | Sequential | 1.4 K \n",
      "--------------------------------------\n",
      "1.4 K     Trainable params\n",
      "0         Non-trainable params\n",
      "1.4 K     Total params\n",
      "0.005     Total estimated model params size (MB)\n"
     ]
    },
    {
     "name": "stdout",
     "output_type": "stream",
     "text": [
      "                                                                           "
     ]
    },
    {
     "name": "stderr",
     "output_type": "stream",
     "text": [
      "/home/xteca/Documents/Project/Research/bounce_simple/.venv/lib/python3.11/site-packages/lightning/pytorch/trainer/connectors/data_connector.py:441: The 'val_dataloader' does not have many workers which may be a bottleneck. Consider increasing the value of the `num_workers` argument` to `num_workers=15` in the `DataLoader` to improve performance.\n",
      "/tmp/ipykernel_622673/29790459.py:33: UserWarning: Using a target size (torch.Size([32])) that is different to the input size (torch.Size([32, 1])). This will likely lead to incorrect results due to broadcasting. Please ensure they have the same size.\n",
      "  loss = F.mse_loss(y, s)\n",
      "/home/xteca/Documents/Project/Research/bounce_simple/.venv/lib/python3.11/site-packages/lightning/pytorch/trainer/connectors/data_connector.py:441: The 'train_dataloader' does not have many workers which may be a bottleneck. Consider increasing the value of the `num_workers` argument` to `num_workers=15` in the `DataLoader` to improve performance.\n",
      "/home/xteca/Documents/Project/Research/bounce_simple/.venv/lib/python3.11/site-packages/lightning/pytorch/loops/fit_loop.py:293: The number of training batches (25) is smaller than the logging interval Trainer(log_every_n_steps=50). Set a lower value for log_every_n_steps if you want to see logs for the training epoch.\n"
     ]
    },
    {
     "name": "stdout",
     "output_type": "stream",
     "text": [
      "Epoch 0:   0%|          | 0/25 [00:00<?, ?it/s] "
     ]
    },
    {
     "name": "stderr",
     "output_type": "stream",
     "text": [
      "/tmp/ipykernel_622673/29790459.py:26: UserWarning: Using a target size (torch.Size([32])) that is different to the input size (torch.Size([32, 1])). This will likely lead to incorrect results due to broadcasting. Please ensure they have the same size.\n",
      "  loss = F.mse_loss(y, s)\n"
     ]
    },
    {
     "name": "stdout",
     "output_type": "stream",
     "text": [
      "Epoch 1:  20%|██        | 5/25 [00:00<00:00, 239.05it/s, v_num=0ghw] "
     ]
    },
    {
     "name": "stderr",
     "output_type": "stream",
     "text": [
      "/tmp/ipykernel_622673/29790459.py:33: UserWarning: Using a target size (torch.Size([8])) that is different to the input size (torch.Size([8, 1])). This will likely lead to incorrect results due to broadcasting. Please ensure they have the same size.\n",
      "  loss = F.mse_loss(y, s)\n"
     ]
    },
    {
     "name": "stdout",
     "output_type": "stream",
     "text": [
      "Epoch 199: 100%|██████████| 25/25 [00:00<00:00, 236.69it/s, v_num=0ghw]"
     ]
    },
    {
     "name": "stderr",
     "output_type": "stream",
     "text": [
      "`Trainer.fit` stopped: `max_epochs=200` reached.\n"
     ]
    },
    {
     "name": "stdout",
     "output_type": "stream",
     "text": [
      "Epoch 199: 100%|██████████| 25/25 [00:00<00:00, 225.57it/s, v_num=0ghw]\n"
     ]
    }
   ],
   "source": [
    "trainer.fit(model)"
   ]
  },
  {
   "cell_type": "code",
   "execution_count": 14,
   "metadata": {},
   "outputs": [
    {
     "data": {
      "text/html": [
       "<style>\n",
       "    table.wandb td:nth-child(1) { padding: 0 10px; text-align: left ; width: auto;} td:nth-child(2) {text-align: left ; width: 100%}\n",
       "    .wandb-row { display: flex; flex-direction: row; flex-wrap: wrap; justify-content: flex-start; width: 100% }\n",
       "    .wandb-col { display: flex; flex-direction: column; flex-basis: 100%; flex: 1; padding: 10px; }\n",
       "    </style>\n",
       "<div class=\"wandb-row\"><div class=\"wandb-col\"><h3>Run history:</h3><br/><table class=\"wandb\"><tr><td>epoch</td><td>▁▁▁▁▂▂▂▂▂▃▃▃▃▃▃▄▄▄▄▄▅▅▅▅▅▅▆▆▆▆▆▇▇▇▇▇▇███</td></tr><tr><td>lr-Adam</td><td>▁▁▂▂▃▄▅▆▇▇███████▇▇▇▇▆▆▅▅▅▄▄▃▃▃▂▂▂▂▁▁▁▁▁</td></tr><tr><td>train_loss</td><td>█▄▃▄▃▁▃▃▃▃▃▂▃▂▂▂▂▂▂▄▂▃▅▂▃▃▄▄▃▂▃▁▂▁▂▃▂▂▄▃</td></tr><tr><td>trainer/global_step</td><td>▁▁▁▁▂▂▂▂▂▃▃▃▃▃▃▄▄▄▄▄▅▅▅▅▅▅▆▆▆▆▆▇▇▇▇▇▇███</td></tr><tr><td>val_loss</td><td>██▇▇▅▄▂▁▁▁▁▁▁▁▁▁▁▁▁▁▁▁▁▁▁▁▁▁▁▁▁▁▁▁▁▁▁▁▁▁</td></tr></table><br/></div><div class=\"wandb-col\"><h3>Run summary:</h3><br/><table class=\"wandb\"><tr><td>epoch</td><td>199</td></tr><tr><td>lr-Adam</td><td>0.0</td></tr><tr><td>train_loss</td><td>0.391</td></tr><tr><td>trainer/global_step</td><td>4999</td></tr><tr><td>val_loss</td><td>0.34642</td></tr></table><br/></div></div>"
      ],
      "text/plain": [
       "<IPython.core.display.HTML object>"
      ]
     },
     "metadata": {},
     "output_type": "display_data"
    },
    {
     "data": {
      "text/html": [
       " View run <strong style=\"color:#cdcd00\">robust-firebrand-34</strong> at: <a href='https://wandb.ai/axect/sho/runs/6do10ghw' target=\"_blank\">https://wandb.ai/axect/sho/runs/6do10ghw</a><br/>Synced 5 W&B file(s), 0 media file(s), 0 artifact file(s) and 0 other file(s)"
      ],
      "text/plain": [
       "<IPython.core.display.HTML object>"
      ]
     },
     "metadata": {},
     "output_type": "display_data"
    },
    {
     "data": {
      "text/html": [
       "Find logs at: <code>./wandb/run-20240108_220035-6do10ghw/logs</code>"
      ],
      "text/plain": [
       "<IPython.core.display.HTML object>"
      ]
     },
     "metadata": {},
     "output_type": "display_data"
    }
   ],
   "source": [
    "wandb.finish()"
   ]
  },
  {
   "cell_type": "code",
   "execution_count": 20,
   "metadata": {},
   "outputs": [],
   "source": [
    "# Test for V(x) = 0.5 * omega^2 * (x - a)^2 for omega = pi/4, a = 0.5\n",
    "def V(x, omega, a):\n",
    "    return 0.5 * omega**2 * (x - a)**2\n",
    "\n",
    "def dV(x, omega, a):\n",
    "    return omega**2 * (x - a)\n",
    "\n",
    "omega = np.pi / 4\n",
    "a = 0.5\n",
    "xp = 1\n",
    "\n",
    "x = np.linspace(0, 1, 16)\n",
    "v = V(x, omega, a)\n",
    "dv = dV(x, omega, a)\n",
    "\n",
    "s = -0.5 * (xp + a)**2 * omega * np.tan(omega) + 0.5 * omega * a**2 * (np.tan(omega) - omega)"
   ]
  },
  {
   "cell_type": "code",
   "execution_count": 21,
   "metadata": {},
   "outputs": [
    {
     "data": {
      "image/png": "[encoded data removed]",
      "text/plain": [
       "<Figure size 640x480 with 1 Axes>"
      ]
     },
     "metadata": {},
     "output_type": "display_data"
    }
   ],
   "source": [
    "plt.plot(x, v)\n",
    "plt.show()"
   ]
  },
  {
   "cell_type": "code",
   "execution_count": 22,
   "metadata": {},
   "outputs": [
    {
     "data": {
      "text/plain": [
       "-0.8625044477809588"
      ]
     },
     "execution_count": 22,
     "metadata": {},
     "output_type": "execute_result"
    }
   ],
   "source": [
    "s"
   ]
  },
  {
   "cell_type": "code",
   "execution_count": 26,
   "metadata": {},
   "outputs": [],
   "source": [
    "# Create test data\n",
    "vs = v.reshape(1, -1)\n",
    "dvs = dv.reshape(1, -1)\n",
    "omega = np.array([omega])\n",
    "a = np.array([a])\n",
    "s = np.array([s])\n",
    "\n",
    "ds_test = SHO(vs, dvs, omega, a, s)\n",
    "dl_test = DataLoader(ds_test, batch_size=1)"
   ]
  },
  {
   "cell_type": "code",
   "execution_count": 27,
   "metadata": {},
   "outputs": [
    {
     "name": "stdout",
     "output_type": "stream",
     "text": [
      "-0.5690433979034424 -0.8625044226646423\n"
     ]
    }
   ],
   "source": [
    "model.eval()\n",
    "for batch in dl_test:\n",
    "    x, s, omega, a = batch\n",
    "    y = model(x)\n",
    "    print(y.item(), s.item())"
   ]
  }
 ],
 "metadata": {
  "kernelspec": {
   "display_name": ".venv",
   "language": "python",
   "name": "python3"
  },
  "language_info": {
   "codemirror_mode": {
    "name": "ipython",
    "version": 3
   },
   "file_extension": ".py",
   "mimetype": "text/x-python",
   "name": "python",
   "nbconvert_exporter": "python",
   "pygments_lexer": "ipython3",
   "version": "3.11.6"
  }
 },
 "nbformat": 4,
 "nbformat_minor": 2
}
