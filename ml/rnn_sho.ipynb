{
 "cells": [
  {
   "cell_type": "code",
   "execution_count": 1,
   "metadata": {},
   "outputs": [],
   "source": [
    "import torch.nn as nn\n",
    "import torch.nn.functional as F\n",
    "import torch.optim as optim\n",
    "from torch.utils.data import Dataset, DataLoader, random_split\n",
    "from torch.optim.lr_scheduler import OneCycleLR\n",
    "\n",
    "import lightning as L\n",
    "from lightning import Trainer\n",
    "from lightning.pytorch.loggers import WandbLogger\n",
    "from lightning.pytorch.callbacks import LearningRateMonitor\n",
    "\n",
    "from wandb import wandb\n",
    "\n",
    "import numpy as np\n",
    "import matplotlib.pyplot as plt\n",
    "import pandas as pd"
   ]
  },
  {
   "cell_type": "code",
   "execution_count": 2,
   "metadata": {},
   "outputs": [],
   "source": [
    "N = 16"
   ]
  },
  {
   "cell_type": "code",
   "execution_count": 3,
   "metadata": {},
   "outputs": [
    {
     "data": {
      "text/html": [
       "<div>\n",
       "<style scoped>\n",
       "    .dataframe tbody tr th:only-of-type {\n",
       "        vertical-align: middle;\n",
       "    }\n",
       "\n",
       "    .dataframe tbody tr th {\n",
       "        vertical-align: top;\n",
       "    }\n",
       "\n",
       "    .dataframe thead th {\n",
       "        text-align: right;\n",
       "    }\n",
       "</style>\n",
       "<table border=\"1\" class=\"dataframe\">\n",
       "  <thead>\n",
       "    <tr style=\"text-align: right;\">\n",
       "      <th></th>\n",
       "      <th>omega</th>\n",
       "      <th>a</th>\n",
       "      <th>s</th>\n",
       "      <th>v0</th>\n",
       "      <th>dv0</th>\n",
       "      <th>v1</th>\n",
       "      <th>dv1</th>\n",
       "      <th>v2</th>\n",
       "      <th>dv2</th>\n",
       "      <th>v3</th>\n",
       "      <th>...</th>\n",
       "      <th>v11</th>\n",
       "      <th>dv11</th>\n",
       "      <th>v12</th>\n",
       "      <th>dv12</th>\n",
       "      <th>v13</th>\n",
       "      <th>dv13</th>\n",
       "      <th>v14</th>\n",
       "      <th>dv14</th>\n",
       "      <th>v15</th>\n",
       "      <th>dv15</th>\n",
       "    </tr>\n",
       "  </thead>\n",
       "  <tbody>\n",
       "    <tr>\n",
       "      <th>0</th>\n",
       "      <td>0.730015</td>\n",
       "      <td>0.465831</td>\n",
       "      <td>-0.688822</td>\n",
       "      <td>0.057822</td>\n",
       "      <td>-0.340064</td>\n",
       "      <td>0.042456</td>\n",
       "      <td>-0.291396</td>\n",
       "      <td>0.029459</td>\n",
       "      <td>-0.242729</td>\n",
       "      <td>0.018830</td>\n",
       "      <td>...</td>\n",
       "      <td>0.019067</td>\n",
       "      <td>0.195280</td>\n",
       "      <td>0.029755</td>\n",
       "      <td>0.243948</td>\n",
       "      <td>0.042812</td>\n",
       "      <td>0.292616</td>\n",
       "      <td>0.058237</td>\n",
       "      <td>0.341284</td>\n",
       "      <td>0.076031</td>\n",
       "      <td>0.389951</td>\n",
       "    </tr>\n",
       "    <tr>\n",
       "      <th>1</th>\n",
       "      <td>0.942236</td>\n",
       "      <td>0.610079</td>\n",
       "      <td>-1.604125</td>\n",
       "      <td>0.165220</td>\n",
       "      <td>-0.574838</td>\n",
       "      <td>0.131084</td>\n",
       "      <td>-0.512023</td>\n",
       "      <td>0.100893</td>\n",
       "      <td>-0.449207</td>\n",
       "      <td>0.074649</td>\n",
       "      <td>...</td>\n",
       "      <td>0.006744</td>\n",
       "      <td>0.116135</td>\n",
       "      <td>0.016012</td>\n",
       "      <td>0.178951</td>\n",
       "      <td>0.029226</td>\n",
       "      <td>0.241766</td>\n",
       "      <td>0.046385</td>\n",
       "      <td>0.304582</td>\n",
       "      <td>0.067491</td>\n",
       "      <td>0.367398</td>\n",
       "    </tr>\n",
       "    <tr>\n",
       "      <th>2</th>\n",
       "      <td>0.656625</td>\n",
       "      <td>0.607784</td>\n",
       "      <td>-0.640249</td>\n",
       "      <td>0.079635</td>\n",
       "      <td>-0.399086</td>\n",
       "      <td>0.063123</td>\n",
       "      <td>-0.355311</td>\n",
       "      <td>0.048527</td>\n",
       "      <td>-0.311536</td>\n",
       "      <td>0.035848</td>\n",
       "      <td>...</td>\n",
       "      <td>0.003398</td>\n",
       "      <td>0.082439</td>\n",
       "      <td>0.007965</td>\n",
       "      <td>0.126214</td>\n",
       "      <td>0.014448</td>\n",
       "      <td>0.169989</td>\n",
       "      <td>0.022847</td>\n",
       "      <td>0.213764</td>\n",
       "      <td>0.033163</td>\n",
       "      <td>0.257539</td>\n",
       "    </tr>\n",
       "    <tr>\n",
       "      <th>3</th>\n",
       "      <td>0.397185</td>\n",
       "      <td>0.144954</td>\n",
       "      <td>-0.109114</td>\n",
       "      <td>0.001657</td>\n",
       "      <td>-0.057574</td>\n",
       "      <td>0.000483</td>\n",
       "      <td>-0.031095</td>\n",
       "      <td>0.000011</td>\n",
       "      <td>-0.004616</td>\n",
       "      <td>0.000239</td>\n",
       "      <td>...</td>\n",
       "      <td>0.027307</td>\n",
       "      <td>0.233695</td>\n",
       "      <td>0.033845</td>\n",
       "      <td>0.260174</td>\n",
       "      <td>0.041085</td>\n",
       "      <td>0.286653</td>\n",
       "      <td>0.049026</td>\n",
       "      <td>0.313132</td>\n",
       "      <td>0.057668</td>\n",
       "      <td>0.339611</td>\n",
       "    </tr>\n",
       "    <tr>\n",
       "      <th>4</th>\n",
       "      <td>0.350593</td>\n",
       "      <td>0.112360</td>\n",
       "      <td>-0.079288</td>\n",
       "      <td>0.000776</td>\n",
       "      <td>-0.039393</td>\n",
       "      <td>0.000128</td>\n",
       "      <td>-0.016020</td>\n",
       "      <td>0.000027</td>\n",
       "      <td>0.007353</td>\n",
       "      <td>0.000472</td>\n",
       "      <td>...</td>\n",
       "      <td>0.023699</td>\n",
       "      <td>0.217709</td>\n",
       "      <td>0.029060</td>\n",
       "      <td>0.241082</td>\n",
       "      <td>0.034968</td>\n",
       "      <td>0.264455</td>\n",
       "      <td>0.041422</td>\n",
       "      <td>0.287828</td>\n",
       "      <td>0.048423</td>\n",
       "      <td>0.311201</td>\n",
       "    </tr>\n",
       "    <tr>\n",
       "      <th>...</th>\n",
       "      <td>...</td>\n",
       "      <td>...</td>\n",
       "      <td>...</td>\n",
       "      <td>...</td>\n",
       "      <td>...</td>\n",
       "      <td>...</td>\n",
       "      <td>...</td>\n",
       "      <td>...</td>\n",
       "      <td>...</td>\n",
       "      <td>...</td>\n",
       "      <td>...</td>\n",
       "      <td>...</td>\n",
       "      <td>...</td>\n",
       "      <td>...</td>\n",
       "      <td>...</td>\n",
       "      <td>...</td>\n",
       "      <td>...</td>\n",
       "      <td>...</td>\n",
       "      <td>...</td>\n",
       "      <td>...</td>\n",
       "      <td>...</td>\n",
       "    </tr>\n",
       "    <tr>\n",
       "      <th>9995</th>\n",
       "      <td>0.717983</td>\n",
       "      <td>0.633164</td>\n",
       "      <td>-0.814009</td>\n",
       "      <td>0.103331</td>\n",
       "      <td>-0.454601</td>\n",
       "      <td>0.082717</td>\n",
       "      <td>-0.406735</td>\n",
       "      <td>0.064394</td>\n",
       "      <td>-0.358870</td>\n",
       "      <td>0.048362</td>\n",
       "      <td>...</td>\n",
       "      <td>0.002586</td>\n",
       "      <td>0.071920</td>\n",
       "      <td>0.007174</td>\n",
       "      <td>0.119785</td>\n",
       "      <td>0.014053</td>\n",
       "      <td>0.167651</td>\n",
       "      <td>0.023224</td>\n",
       "      <td>0.215517</td>\n",
       "      <td>0.034685</td>\n",
       "      <td>0.263382</td>\n",
       "    </tr>\n",
       "    <tr>\n",
       "      <th>9996</th>\n",
       "      <td>1.024487</td>\n",
       "      <td>0.385159</td>\n",
       "      <td>-1.569259</td>\n",
       "      <td>0.077851</td>\n",
       "      <td>-0.394591</td>\n",
       "      <td>0.053233</td>\n",
       "      <td>-0.326292</td>\n",
       "      <td>0.033280</td>\n",
       "      <td>-0.257992</td>\n",
       "      <td>0.017992</td>\n",
       "      <td>...</td>\n",
       "      <td>0.063617</td>\n",
       "      <td>0.356700</td>\n",
       "      <td>0.090312</td>\n",
       "      <td>0.424999</td>\n",
       "      <td>0.121671</td>\n",
       "      <td>0.493298</td>\n",
       "      <td>0.157696</td>\n",
       "      <td>0.561597</td>\n",
       "      <td>0.198385</td>\n",
       "      <td>0.629896</td>\n",
       "    </tr>\n",
       "    <tr>\n",
       "      <th>9997</th>\n",
       "      <td>0.800453</td>\n",
       "      <td>0.256945</td>\n",
       "      <td>-0.645574</td>\n",
       "      <td>0.021151</td>\n",
       "      <td>-0.205672</td>\n",
       "      <td>0.011599</td>\n",
       "      <td>-0.152309</td>\n",
       "      <td>0.004895</td>\n",
       "      <td>-0.098945</td>\n",
       "      <td>0.001039</td>\n",
       "      <td>...</td>\n",
       "      <td>0.072705</td>\n",
       "      <td>0.381327</td>\n",
       "      <td>0.094478</td>\n",
       "      <td>0.434691</td>\n",
       "      <td>0.119098</td>\n",
       "      <td>0.488054</td>\n",
       "      <td>0.146567</td>\n",
       "      <td>0.541418</td>\n",
       "      <td>0.176882</td>\n",
       "      <td>0.594781</td>\n",
       "    </tr>\n",
       "    <tr>\n",
       "      <th>9998</th>\n",
       "      <td>0.110174</td>\n",
       "      <td>0.632927</td>\n",
       "      <td>-0.016239</td>\n",
       "      <td>0.002431</td>\n",
       "      <td>-0.069732</td>\n",
       "      <td>0.001946</td>\n",
       "      <td>-0.062387</td>\n",
       "      <td>0.001515</td>\n",
       "      <td>-0.055042</td>\n",
       "      <td>0.001138</td>\n",
       "      <td>...</td>\n",
       "      <td>0.000061</td>\n",
       "      <td>0.011062</td>\n",
       "      <td>0.000169</td>\n",
       "      <td>0.018407</td>\n",
       "      <td>0.000332</td>\n",
       "      <td>0.025752</td>\n",
       "      <td>0.000548</td>\n",
       "      <td>0.033097</td>\n",
       "      <td>0.000818</td>\n",
       "      <td>0.040442</td>\n",
       "    </tr>\n",
       "    <tr>\n",
       "      <th>9999</th>\n",
       "      <td>0.464368</td>\n",
       "      <td>0.183281</td>\n",
       "      <td>-0.162554</td>\n",
       "      <td>0.003622</td>\n",
       "      <td>-0.085110</td>\n",
       "      <td>0.001466</td>\n",
       "      <td>-0.054152</td>\n",
       "      <td>0.000269</td>\n",
       "      <td>-0.023194</td>\n",
       "      <td>0.000030</td>\n",
       "      <td>...</td>\n",
       "      <td>0.032621</td>\n",
       "      <td>0.255426</td>\n",
       "      <td>0.041008</td>\n",
       "      <td>0.286384</td>\n",
       "      <td>0.050353</td>\n",
       "      <td>0.317342</td>\n",
       "      <td>0.060656</td>\n",
       "      <td>0.348300</td>\n",
       "      <td>0.071918</td>\n",
       "      <td>0.379258</td>\n",
       "    </tr>\n",
       "  </tbody>\n",
       "</table>\n",
       "<p>10000 rows × 35 columns</p>\n",
       "</div>"
      ],
      "text/plain": [
       "         omega         a         s        v0       dv0        v1       dv1  \\\n",
       "0     0.730015  0.465831 -0.688822  0.057822 -0.340064  0.042456 -0.291396   \n",
       "1     0.942236  0.610079 -1.604125  0.165220 -0.574838  0.131084 -0.512023   \n",
       "2     0.656625  0.607784 -0.640249  0.079635 -0.399086  0.063123 -0.355311   \n",
       "3     0.397185  0.144954 -0.109114  0.001657 -0.057574  0.000483 -0.031095   \n",
       "4     0.350593  0.112360 -0.079288  0.000776 -0.039393  0.000128 -0.016020   \n",
       "...        ...       ...       ...       ...       ...       ...       ...   \n",
       "9995  0.717983  0.633164 -0.814009  0.103331 -0.454601  0.082717 -0.406735   \n",
       "9996  1.024487  0.385159 -1.569259  0.077851 -0.394591  0.053233 -0.326292   \n",
       "9997  0.800453  0.256945 -0.645574  0.021151 -0.205672  0.011599 -0.152309   \n",
       "9998  0.110174  0.632927 -0.016239  0.002431 -0.069732  0.001946 -0.062387   \n",
       "9999  0.464368  0.183281 -0.162554  0.003622 -0.085110  0.001466 -0.054152   \n",
       "\n",
       "            v2       dv2        v3  ...       v11      dv11       v12  \\\n",
       "0     0.029459 -0.242729  0.018830  ...  0.019067  0.195280  0.029755   \n",
       "1     0.100893 -0.449207  0.074649  ...  0.006744  0.116135  0.016012   \n",
       "2     0.048527 -0.311536  0.035848  ...  0.003398  0.082439  0.007965   \n",
       "3     0.000011 -0.004616  0.000239  ...  0.027307  0.233695  0.033845   \n",
       "4     0.000027  0.007353  0.000472  ...  0.023699  0.217709  0.029060   \n",
       "...        ...       ...       ...  ...       ...       ...       ...   \n",
       "9995  0.064394 -0.358870  0.048362  ...  0.002586  0.071920  0.007174   \n",
       "9996  0.033280 -0.257992  0.017992  ...  0.063617  0.356700  0.090312   \n",
       "9997  0.004895 -0.098945  0.001039  ...  0.072705  0.381327  0.094478   \n",
       "9998  0.001515 -0.055042  0.001138  ...  0.000061  0.011062  0.000169   \n",
       "9999  0.000269 -0.023194  0.000030  ...  0.032621  0.255426  0.041008   \n",
       "\n",
       "          dv12       v13      dv13       v14      dv14       v15      dv15  \n",
       "0     0.243948  0.042812  0.292616  0.058237  0.341284  0.076031  0.389951  \n",
       "1     0.178951  0.029226  0.241766  0.046385  0.304582  0.067491  0.367398  \n",
       "2     0.126214  0.014448  0.169989  0.022847  0.213764  0.033163  0.257539  \n",
       "3     0.260174  0.041085  0.286653  0.049026  0.313132  0.057668  0.339611  \n",
       "4     0.241082  0.034968  0.264455  0.041422  0.287828  0.048423  0.311201  \n",
       "...        ...       ...       ...       ...       ...       ...       ...  \n",
       "9995  0.119785  0.014053  0.167651  0.023224  0.215517  0.034685  0.263382  \n",
       "9996  0.424999  0.121671  0.493298  0.157696  0.561597  0.198385  0.629896  \n",
       "9997  0.434691  0.119098  0.488054  0.146567  0.541418  0.176882  0.594781  \n",
       "9998  0.018407  0.000332  0.025752  0.000548  0.033097  0.000818  0.040442  \n",
       "9999  0.286384  0.050353  0.317342  0.060656  0.348300  0.071918  0.379258  \n",
       "\n",
       "[10000 rows x 35 columns]"
      ]
     },
     "execution_count": 3,
     "metadata": {},
     "output_type": "execute_result"
    }
   ],
   "source": [
    "# Load data (parquet)\n",
    "df = pd.read_parquet(\"../sho.parquet\")\n",
    "df"
   ]
  },
  {
   "cell_type": "code",
   "execution_count": 4,
   "metadata": {},
   "outputs": [],
   "source": [
    "omega = df[\"omega\"].values\n",
    "a     = df[\"a\"].values\n",
    "s     = df[\"s\"].values"
   ]
  },
  {
   "cell_type": "code",
   "execution_count": 5,
   "metadata": {},
   "outputs": [],
   "source": [
    "vs = []\n",
    "dvs = []\n",
    "for i in range(N):\n",
    "    vs.append(df[f\"v{i}\"].values)\n",
    "    dvs.append(df[f\"dv{i}\"].values)\n",
    "vs = np.array(vs).T\n",
    "dvs = np.array(dvs).T"
   ]
  },
  {
   "cell_type": "code",
   "execution_count": 6,
   "metadata": {},
   "outputs": [
    {
     "data": {
      "text/plain": [
       "(10000, 16)"
      ]
     },
     "execution_count": 6,
     "metadata": {},
     "output_type": "execute_result"
    }
   ],
   "source": [
    "vs.shape"
   ]
  },
  {
   "cell_type": "code",
   "execution_count": 20,
   "metadata": {},
   "outputs": [
    {
     "data": {
      "text/plain": [
       "(10000, 16, 2)"
      ]
     },
     "execution_count": 20,
     "metadata": {},
     "output_type": "execute_result"
    }
   ],
   "source": [
    "vs_new = vs.reshape(-1, N, 1)\n",
    "dvs_new = dvs.reshape(-1, N, 1)\n",
    "\n",
    "np.concatenate([vs_new, dvs_new], axis=2).shape"
   ]
  },
  {
   "cell_type": "code",
   "execution_count": 21,
   "metadata": {},
   "outputs": [],
   "source": [
    "s_min = s.min()\n",
    "s_max = s.max()\n",
    "s = (s - s_min) / (s_max - s_min)"
   ]
  },
  {
   "cell_type": "code",
   "execution_count": 22,
   "metadata": {},
   "outputs": [],
   "source": [
    "class SHO(Dataset):\n",
    "    def __init__(self, vs, dvs, omega, a, s):\n",
    "        self.omega = omega.astype(np.float32)\n",
    "        self.a     = a.astype(np.float32)\n",
    "        self.s     = s.astype(np.float32)\n",
    "\n",
    "        vs_new = vs.astype(np.float32).reshape(-1, N, 1)\n",
    "        dvs_new = dvs.astype(np.float32).reshape(-1, N, 1)\n",
    "        self.X = np.concatenate([vs_new, dvs_new], axis=2)\n",
    "        self.y = self.s\n",
    "\n",
    "    def __len__(self):\n",
    "        return self.X.shape[0]\n",
    "\n",
    "    def __getitem__(self, idx):\n",
    "        return self.X[idx], self.y[idx], self.omega[idx], self.a[idx]"
   ]
  },
  {
   "cell_type": "code",
   "execution_count": 23,
   "metadata": {},
   "outputs": [],
   "source": [
    "ds = SHO(vs, dvs, omega, a, s)"
   ]
  },
  {
   "cell_type": "code",
   "execution_count": 24,
   "metadata": {},
   "outputs": [
    {
     "data": {
      "text/plain": [
       "(1, 16, 2)"
      ]
     },
     "execution_count": 24,
     "metadata": {},
     "output_type": "execute_result"
    }
   ],
   "source": [
    "ds[0:1][0].shape"
   ]
  },
  {
   "cell_type": "code",
   "execution_count": 25,
   "metadata": {},
   "outputs": [],
   "source": [
    "# Split data\n",
    "train_size = int(0.8 * len(ds))\n",
    "test_size = len(ds) - train_size\n",
    "train_ds, test_ds = random_split(ds, [train_size, test_size])\n",
    "\n",
    "# Create dataloaders\n",
    "batch_size = 128\n",
    "train_dl = DataLoader(train_ds, batch_size=batch_size, shuffle=True)\n",
    "test_dl = DataLoader(test_ds, batch_size=batch_size)"
   ]
  },
  {
   "cell_type": "code",
   "execution_count": 26,
   "metadata": {},
   "outputs": [],
   "source": [
    "class RNN(L.LightningModule):\n",
    "    def __init__(self, hparams):\n",
    "        super().__init__()\n",
    "        self.n_in       = hparams[\"n_in\"]\n",
    "        self.n_out      = hparams[\"n_out\"]\n",
    "        self.n_hidden   = hparams[\"n_hidden\"]\n",
    "        self.n_layers   = hparams[\"n_layers\"]\n",
    "        self.lr         = hparams[\"lr\"]\n",
    "        self.epochs     = hparams[\"epochs\"]\n",
    "        self.batchsize  = hparams[\"batchsize\"]\n",
    "\n",
    "        # Encoder\n",
    "        self.encoder = nn.LSTM(self.n_in, self.n_hidden, 1, batch_first=True)\n",
    "        \n",
    "        # Decoder\n",
    "        fc_list = []\n",
    "        for _ in range(self.n_layers):\n",
    "            fc_list.append(nn.Linear(self.n_hidden, self.n_hidden))\n",
    "            fc_list.append(nn.ReLU())\n",
    "        fc_list.append(nn.Linear(self.n_hidden, self.n_out))\n",
    "        self.fc = nn.Sequential(*fc_list)\n",
    "\n",
    "    def forward(self, x):\n",
    "        _, W, _ = x.shape\n",
    "        # For each window, encode the sequence\n",
    "        _, (h, c) = self.encoder(x[:, 0, :].unsqueeze(1))\n",
    "        for i in range(1, W):\n",
    "            _, (h, c) = self.encoder(x[:, i, :].unsqueeze(1), (h, c))\n",
    "        \n",
    "        # hidden state -> (B, H)\n",
    "        h = h.squeeze(0)\n",
    "\n",
    "        # Decode the hidden state\n",
    "        y = self.fc(h)\n",
    "        return y\n",
    "\n",
    "    def training_step(self, batch, batch_idx):\n",
    "        x, s, _, _ = batch\n",
    "        y = self(x)\n",
    "        loss = F.mse_loss(y, s)\n",
    "        self.log('train_loss', loss)\n",
    "        return loss\n",
    "    \n",
    "    def validation_step(self, batch, batch_idx):\n",
    "        x, s, _, _ = batch\n",
    "        y = self(x)\n",
    "        loss = F.mse_loss(y, s)\n",
    "        self.log('val_loss', loss)\n",
    "        return loss\n",
    "    \n",
    "    def configure_optimizers(self):\n",
    "        optimizer = optim.Adam(self.parameters(), lr=self.lr)\n",
    "        scheduler = OneCycleLR(optimizer, max_lr=self.lr, epochs=self.epochs, steps_per_epoch=len(train_dl) // self.batchsize + 1)\n",
    "        return {\n",
    "            'optimizer': optimizer, \n",
    "            'lr_scheduler': scheduler, \n",
    "            'monitor': 'val_loss',\n",
    "            'interval': 'epoch',\n",
    "            'strict': True\n",
    "        }\n",
    "    \n",
    "    def train_dataloader(self):\n",
    "        return train_dl\n",
    "    \n",
    "    def val_dataloader(self):\n",
    "        return test_dl"
   ]
  },
  {
   "cell_type": "code",
   "execution_count": 27,
   "metadata": {},
   "outputs": [],
   "source": [
    "hparams = {\n",
    "    \"n_in\": 2,\n",
    "    \"n_out\": 1,\n",
    "    \"n_hidden\": 16,\n",
    "    \"n_layers\": 3,\n",
    "    \"lr\": 1e-4,\n",
    "    \"epochs\": 100,\n",
    "    \"batchsize\": batch_size\n",
    "}\n",
    "\n",
    "model = RNN(hparams)"
   ]
  },
  {
   "cell_type": "code",
   "execution_count": 13,
   "metadata": {},
   "outputs": [
    {
     "name": "stderr",
     "output_type": "stream",
     "text": [
      "Failed to detect the name of this notebook, you can set it manually with the WANDB_NOTEBOOK_NAME environment variable to enable code saving.\n",
      "\u001b[34m\u001b[1mwandb\u001b[0m: Currently logged in as: \u001b[33maxect\u001b[0m. Use \u001b[1m`wandb login --relogin`\u001b[0m to force relogin\n"
     ]
    },
    {
     "data": {
      "text/html": [
       "Tracking run with wandb version 0.16.1"
      ],
      "text/plain": [
       "<IPython.core.display.HTML object>"
      ]
     },
     "metadata": {},
     "output_type": "display_data"
    },
    {
     "data": {
      "text/html": [
       "Run data is saved locally in <code>/home/xteca/Documents/Project/Research/bounce_simple/ml/wandb/run-20240109_085246-3l4qb419</code>"
      ],
      "text/plain": [
       "<IPython.core.display.HTML object>"
      ]
     },
     "metadata": {},
     "output_type": "display_data"
    },
    {
     "data": {
      "text/html": [
       "Syncing run <strong><a href='https://wandb.ai/axect/sho/runs/3l4qb419' target=\"_blank\">devoted-waterfall-42</a></strong> to <a href='https://wandb.ai/axect/sho' target=\"_blank\">Weights & Biases</a> (<a href='https://wandb.me/run' target=\"_blank\">docs</a>)<br/>"
      ],
      "text/plain": [
       "<IPython.core.display.HTML object>"
      ]
     },
     "metadata": {},
     "output_type": "display_data"
    },
    {
     "data": {
      "text/html": [
       " View project at <a href='https://wandb.ai/axect/sho' target=\"_blank\">https://wandb.ai/axect/sho</a>"
      ],
      "text/plain": [
       "<IPython.core.display.HTML object>"
      ]
     },
     "metadata": {},
     "output_type": "display_data"
    },
    {
     "data": {
      "text/html": [
       " View run at <a href='https://wandb.ai/axect/sho/runs/3l4qb419' target=\"_blank\">https://wandb.ai/axect/sho/runs/3l4qb419</a>"
      ],
      "text/plain": [
       "<IPython.core.display.HTML object>"
      ]
     },
     "metadata": {},
     "output_type": "display_data"
    },
    {
     "data": {
      "text/html": [
       "<button onClick=\"this.nextSibling.style.display='block';this.style.display='none';\">Display W&B run</button><iframe src='https://wandb.ai/axect/sho/runs/3l4qb419?jupyter=true' style='border:none;width:100%;height:420px;display:none;'></iframe>"
      ],
      "text/plain": [
       "<wandb.sdk.wandb_run.Run at 0x7fa149b93750>"
      ]
     },
     "execution_count": 13,
     "metadata": {},
     "output_type": "execute_result"
    }
   ],
   "source": [
    "# Wandb logger\n",
    "wandb.init(project=\"sho\")"
   ]
  },
  {
   "cell_type": "code",
   "execution_count": 28,
   "metadata": {},
   "outputs": [
    {
     "name": "stderr",
     "output_type": "stream",
     "text": [
      "GPU available: True (cuda), used: True\n",
      "TPU available: False, using: 0 TPU cores\n",
      "IPU available: False, using: 0 IPUs\n",
      "HPU available: False, using: 0 HPUs\n"
     ]
    }
   ],
   "source": [
    "# Train\n",
    "trainer = Trainer(\n",
    "    max_epochs=hparams[\"epochs\"],\n",
    "    logger=WandbLogger(),\n",
    "    callbacks=[LearningRateMonitor(logging_interval='epoch')]\n",
    ")"
   ]
  },
  {
   "cell_type": "code",
   "execution_count": 29,
   "metadata": {},
   "outputs": [
    {
     "name": "stderr",
     "output_type": "stream",
     "text": [
      "/home/xteca/Documents/Project/Research/bounce_simple/.venv/lib/python3.11/site-packages/lightning/pytorch/loggers/wandb.py:389: There is a wandb run already in progress and newly created instances of `WandbLogger` will reuse this run. If this is not desired, call `wandb.finish()` before instantiating `WandbLogger`.\n",
      "LOCAL_RANK: 0 - CUDA_VISIBLE_DEVICES: [0]\n",
      "/home/xteca/Documents/Project/Research/bounce_simple/.venv/lib/python3.11/site-packages/lightning/pytorch/core/optimizer.py:375: Found unsupported keys in the optimizer configuration: {'interval', 'strict'}\n",
      "\n",
      "  | Name    | Type       | Params\n",
      "---------------------------------------\n",
      "0 | encoder | LSTM       | 1.3 K \n",
      "1 | fc      | Sequential | 833   \n",
      "---------------------------------------\n",
      "2.1 K     Trainable params\n",
      "0         Non-trainable params\n",
      "2.1 K     Total params\n",
      "0.008     Total estimated model params size (MB)\n"
     ]
    },
    {
     "name": "stdout",
     "output_type": "stream",
     "text": [
      "                                                                           "
     ]
    },
    {
     "name": "stderr",
     "output_type": "stream",
     "text": [
      "/home/xteca/Documents/Project/Research/bounce_simple/.venv/lib/python3.11/site-packages/lightning/pytorch/trainer/connectors/data_connector.py:441: The 'val_dataloader' does not have many workers which may be a bottleneck. Consider increasing the value of the `num_workers` argument` to `num_workers=15` in the `DataLoader` to improve performance.\n",
      "/tmp/ipykernel_35291/4137332742.py:47: UserWarning: Using a target size (torch.Size([128])) that is different to the input size (torch.Size([128, 1])). This will likely lead to incorrect results due to broadcasting. Please ensure they have the same size.\n",
      "  loss = F.mse_loss(y, s)\n",
      "/home/xteca/Documents/Project/Research/bounce_simple/.venv/lib/python3.11/site-packages/lightning/pytorch/trainer/connectors/data_connector.py:441: The 'train_dataloader' does not have many workers which may be a bottleneck. Consider increasing the value of the `num_workers` argument` to `num_workers=15` in the `DataLoader` to improve performance.\n"
     ]
    },
    {
     "name": "stdout",
     "output_type": "stream",
     "text": [
      "Epoch 0:   2%|▏         | 1/63 [00:00<00:06,  9.89it/s, v_num=b419]"
     ]
    },
    {
     "name": "stderr",
     "output_type": "stream",
     "text": [
      "/tmp/ipykernel_35291/4137332742.py:40: UserWarning: Using a target size (torch.Size([128])) that is different to the input size (torch.Size([128, 1])). This will likely lead to incorrect results due to broadcasting. Please ensure they have the same size.\n",
      "  loss = F.mse_loss(y, s)\n"
     ]
    },
    {
     "name": "stdout",
     "output_type": "stream",
     "text": [
      "Epoch 0: 100%|██████████| 63/63 [00:00<00:00, 106.08it/s, v_num=b419]"
     ]
    },
    {
     "name": "stderr",
     "output_type": "stream",
     "text": [
      "/tmp/ipykernel_35291/4137332742.py:40: UserWarning: Using a target size (torch.Size([64])) that is different to the input size (torch.Size([64, 1])). This will likely lead to incorrect results due to broadcasting. Please ensure they have the same size.\n",
      "  loss = F.mse_loss(y, s)\n"
     ]
    },
    {
     "name": "stdout",
     "output_type": "stream",
     "text": [
      "Epoch 1:  21%|██        | 13/63 [00:00<00:00, 132.66it/s, v_num=b419]"
     ]
    },
    {
     "name": "stderr",
     "output_type": "stream",
     "text": [
      "/tmp/ipykernel_35291/4137332742.py:47: UserWarning: Using a target size (torch.Size([80])) that is different to the input size (torch.Size([80, 1])). This will likely lead to incorrect results due to broadcasting. Please ensure they have the same size.\n",
      "  loss = F.mse_loss(y, s)\n"
     ]
    },
    {
     "name": "stdout",
     "output_type": "stream",
     "text": [
      "Epoch 99: 100%|██████████| 63/63 [00:00<00:00, 93.53it/s, v_num=b419] "
     ]
    },
    {
     "name": "stderr",
     "output_type": "stream",
     "text": [
      "`Trainer.fit` stopped: `max_epochs=100` reached.\n"
     ]
    },
    {
     "name": "stdout",
     "output_type": "stream",
     "text": [
      "Epoch 99: 100%|██████████| 63/63 [00:00<00:00, 93.03it/s, v_num=b419]\n"
     ]
    }
   ],
   "source": [
    "trainer.fit(model)"
   ]
  },
  {
   "cell_type": "code",
   "execution_count": null,
   "metadata": {},
   "outputs": [
    {
     "name": "stderr",
     "output_type": "stream",
     "text": [
      "wandb: WARNING Source type is set to 'repo' but some required information is missing from the environment. A job will not be created from this run. See https://docs.wandb.ai/guides/launch/create-job\n"
     ]
    },
    {
     "data": {
      "text/html": [
       "<style>\n",
       "    table.wandb td:nth-child(1) { padding: 0 10px; text-align: left ; width: auto;} td:nth-child(2) {text-align: left ; width: 100%}\n",
       "    .wandb-row { display: flex; flex-direction: row; flex-wrap: wrap; justify-content: flex-start; width: 100% }\n",
       "    .wandb-col { display: flex; flex-direction: column; flex-basis: 100%; flex: 1; padding: 10px; }\n",
       "    </style>\n",
       "<div class=\"wandb-row\"><div class=\"wandb-col\"><h3>Run history:</h3><br/><table class=\"wandb\"><tr><td>epoch</td><td>▁▁▁▁▂▂▂▂▂▃▃▃▃▃▄▄▄▄▄▄▅▅▅▅▅▅▆▆▆▆▆▇▇▇▇▇████</td></tr><tr><td>lr-Adam</td><td>▁▁▂▂▃▄▅▆▇▇███████▇▇▇▇▆▆▅▅▅▄▄▃▃▃▂▂▂▂▁▁▁▁▁</td></tr><tr><td>train_loss</td><td>███▇▇▇▇▆▄▂▁▁▁▁▁▁▁▁▁▁▁▁▁▁▁▁▁▁▁▁▁▁▁▁▁▁▁▁▁▁</td></tr><tr><td>trainer/global_step</td><td>▁▁▁▂▂▂▂▂▂▃▃▃▃▃▃▄▄▄▄▄▅▅▅▅▅▅▆▆▆▆▆▇▇▇▇▇▇███</td></tr><tr><td>val_loss</td><td>█████▇▇▆▄▂▁▁▁▁▁▁▁▁▁▁▁▁▁▁▁▁▁▁▁▁▁▁▁▁▁▁▁▁▁▁</td></tr></table><br/></div><div class=\"wandb-col\"><h3>Run summary:</h3><br/><table class=\"wandb\"><tr><td>epoch</td><td>99</td></tr><tr><td>lr-Adam</td><td>0.0</td></tr><tr><td>train_loss</td><td>0.02658</td></tr><tr><td>trainer/global_step</td><td>6299</td></tr><tr><td>val_loss</td><td>0.03667</td></tr></table><br/></div></div>"
      ],
      "text/plain": [
       "<IPython.core.display.HTML object>"
      ]
     },
     "metadata": {},
     "output_type": "display_data"
    },
    {
     "data": {
      "text/html": [
       " View run <strong style=\"color:#cdcd00\">copper-violet-40</strong> at: <a href='https://wandb.ai/axect/sho/runs/3cgrgmb0' target=\"_blank\">https://wandb.ai/axect/sho/runs/3cgrgmb0</a><br/>Synced 5 W&B file(s), 0 media file(s), 0 artifact file(s) and 0 other file(s)"
      ],
      "text/plain": [
       "<IPython.core.display.HTML object>"
      ]
     },
     "metadata": {},
     "output_type": "display_data"
    },
    {
     "data": {
      "text/html": [
       "Find logs at: <code>./wandb/run-20240109_082841-3cgrgmb0/logs</code>"
      ],
      "text/plain": [
       "<IPython.core.display.HTML object>"
      ]
     },
     "metadata": {},
     "output_type": "display_data"
    }
   ],
   "source": [
    "wandb.finish()"
   ]
  },
  {
   "cell_type": "code",
   "execution_count": null,
   "metadata": {},
   "outputs": [],
   "source": [
    "# Test for V(x) = 0.5 * omega^2 * (x - a)^2 for omega = pi/4, a = 0.5\n",
    "def V(x, omega, a):\n",
    "    return 0.5 * omega**2 * (x - a)**2\n",
    "\n",
    "def dV(x, omega, a):\n",
    "    return omega**2 * (x - a)\n",
    "\n",
    "omega = np.pi / 4\n",
    "a = 0.5\n",
    "xp = 1\n",
    "\n",
    "x = np.linspace(0, 1, 16)\n",
    "v = V(x, omega, a)\n",
    "dv = dV(x, omega, a)\n",
    "\n",
    "s = -0.5 * (xp + a)**2 * omega * np.tan(omega) + 0.5 * omega * a**2 * (np.tan(omega) - omega)"
   ]
  },
  {
   "cell_type": "code",
   "execution_count": null,
   "metadata": {},
   "outputs": [
    {
     "data": {
      "image/png": "[encoded data removed]",
      "text/plain": [
       "<Figure size 640x480 with 1 Axes>"
      ]
     },
     "metadata": {},
     "output_type": "display_data"
    }
   ],
   "source": [
    "plt.plot(x, v)\n",
    "plt.show()"
   ]
  },
  {
   "cell_type": "code",
   "execution_count": null,
   "metadata": {},
   "outputs": [
    {
     "data": {
      "text/plain": [
       "-0.8625044477809588"
      ]
     },
     "execution_count": 18,
     "metadata": {},
     "output_type": "execute_result"
    }
   ],
   "source": [
    "s"
   ]
  },
  {
   "cell_type": "code",
   "execution_count": null,
   "metadata": {},
   "outputs": [],
   "source": [
    "# Create test data\n",
    "vs = v.reshape(1, -1)\n",
    "dvs = dv.reshape(1, -1)\n",
    "omega = np.array([omega])\n",
    "a = np.array([a])\n",
    "s = np.array([s])\n",
    "\n",
    "ds_test = SHO(vs, dvs, omega, a, s)\n",
    "dl_test = DataLoader(ds_test, batch_size=1)"
   ]
  },
  {
   "cell_type": "code",
   "execution_count": null,
   "metadata": {},
   "outputs": [],
   "source": [
    "def s_decode(s):\n",
    "    return s * (s_max - s_min) + s_min"
   ]
  },
  {
   "cell_type": "code",
   "execution_count": null,
   "metadata": {},
   "outputs": [
    {
     "name": "stdout",
     "output_type": "stream",
     "text": [
      "-0.4886786937713623 -0.8625044226646423\n"
     ]
    }
   ],
   "source": [
    "model.eval()\n",
    "for batch in dl_test:\n",
    "    x, s, omega, a = batch\n",
    "    y = model(x)\n",
    "    y = s_decode(y)\n",
    "    print(y.item(), s.item())"
   ]
  }
 ],
 "metadata": {
  "kernelspec": {
   "display_name": ".venv",
   "language": "python",
   "name": "python3"
  },
  "language_info": {
   "codemirror_mode": {
    "name": "ipython",
    "version": 3
   },
   "file_extension": ".py",
   "mimetype": "text/x-python",
   "name": "python",
   "nbconvert_exporter": "python",
   "pygments_lexer": "ipython3",
   "version": "3.11.6"
  }
 },
 "nbformat": 4,
 "nbformat_minor": 2
}
